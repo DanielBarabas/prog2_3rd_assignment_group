{
 "cells": [
  {
   "cell_type": "code",
   "execution_count": 2,
   "metadata": {},
   "outputs": [],
   "source": [
    "import pandas as pd\n",
    "import networkx as nx\n",
    "from tqdm import tqdm\n",
    "import matplotlib.pyplot as plt"
   ]
  },
  {
   "cell_type": "markdown",
   "metadata": {},
   "source": [
    "## Load all data"
   ]
  },
  {
   "cell_type": "code",
   "execution_count": 3,
   "metadata": {},
   "outputs": [],
   "source": [
    "meta = pd.read_csv(\"data/meta.csv\")\n"
   ]
  },
  {
   "cell_type": "code",
   "execution_count": 4,
   "metadata": {},
   "outputs": [],
   "source": [
    "valid_data = meta.loc[meta[\"edges\"]>0,:]"
   ]
  },
  {
   "cell_type": "code",
   "execution_count": 71,
   "metadata": {},
   "outputs": [],
   "source": [
    "def get_modularity_from_edgelist(edge_df:pd.DataFrame):\n",
    "    G = nx.from_pandas_edgelist(edge_df,\"from\",\"to\")\n",
    "    comms = nx.community.louvain_communities(G,resolution=1,seed=420)\n",
    "    mod = nx.community.modularity(G,comms)\n",
    "    return len(comms),mod"
   ]
  },
  {
   "cell_type": "code",
   "execution_count": 72,
   "metadata": {},
   "outputs": [
    {
     "name": "stderr",
     "output_type": "stream",
     "text": [
      "100%|██████████| 133/133 [00:11<00:00, 11.50it/s]\n"
     ]
    }
   ],
   "source": [
    "modularity_values = []\n",
    "commnums = []\n",
    "for id in tqdm(valid_data[\"id\"]):\n",
    "    #print(id)\n",
    "    temp_edgelist = pd.read_csv(\"data/{}/edges.csv\".format(id))\n",
    "    commnum, mod = get_modularity_from_edgelist(temp_edgelist)\n",
    "    modularity_values.append(mod)\n",
    "    commnums.append(commnum)\n",
    "\n"
   ]
  },
  {
   "cell_type": "code",
   "execution_count": 73,
   "metadata": {},
   "outputs": [
    {
     "name": "stderr",
     "output_type": "stream",
     "text": [
      "C:\\Users\\tomi\\AppData\\Local\\Temp\\ipykernel_14232\\1744131051.py:1: SettingWithCopyWarning: \n",
      "A value is trying to be set on a copy of a slice from a DataFrame.\n",
      "Try using .loc[row_indexer,col_indexer] = value instead\n",
      "\n",
      "See the caveats in the documentation: https://pandas.pydata.org/pandas-docs/stable/user_guide/indexing.html#returning-a-view-versus-a-copy\n",
      "  valid_data[\"modularity\"] = modularity_values\n",
      "C:\\Users\\tomi\\AppData\\Local\\Temp\\ipykernel_14232\\1744131051.py:2: SettingWithCopyWarning: \n",
      "A value is trying to be set on a copy of a slice from a DataFrame.\n",
      "Try using .loc[row_indexer,col_indexer] = value instead\n",
      "\n",
      "See the caveats in the documentation: https://pandas.pydata.org/pandas-docs/stable/user_guide/indexing.html#returning-a-view-versus-a-copy\n",
      "  valid_data[\"commnum\"] = commnums\n"
     ]
    }
   ],
   "source": [
    "valid_data[\"modularity\"] = modularity_values\n",
    "valid_data[\"commnum\"] = commnums"
   ]
  },
  {
   "cell_type": "code",
   "execution_count": 74,
   "metadata": {},
   "outputs": [
    {
     "data": {
      "text/html": [
       "<div>\n",
       "<style scoped>\n",
       "    .dataframe tbody tr th:only-of-type {\n",
       "        vertical-align: middle;\n",
       "    }\n",
       "\n",
       "    .dataframe tbody tr th {\n",
       "        vertical-align: top;\n",
       "    }\n",
       "\n",
       "    .dataframe thead th {\n",
       "        text-align: right;\n",
       "    }\n",
       "</style>\n",
       "<table border=\"1\" class=\"dataframe\">\n",
       "  <thead>\n",
       "    <tr style=\"text-align: right;\">\n",
       "      <th></th>\n",
       "      <th>id</th>\n",
       "      <th>nodes</th>\n",
       "      <th>edges</th>\n",
       "      <th>attribute-count</th>\n",
       "      <th>title</th>\n",
       "      <th>imdb-score</th>\n",
       "      <th>imdb-votes</th>\n",
       "      <th>fandom-title</th>\n",
       "      <th>fandom-category</th>\n",
       "      <th>fandom-pages</th>\n",
       "      <th>fandom-images</th>\n",
       "      <th>fandom-videos</th>\n",
       "      <th>modularity</th>\n",
       "      <th>score_cat</th>\n",
       "      <th>commnum</th>\n",
       "    </tr>\n",
       "  </thead>\n",
       "  <tbody>\n",
       "    <tr>\n",
       "      <th>0</th>\n",
       "      <td>walkingdead</td>\n",
       "      <td>5942.0</td>\n",
       "      <td>72746.0</td>\n",
       "      <td>29</td>\n",
       "      <td>The Walking Dead</td>\n",
       "      <td>8.1</td>\n",
       "      <td>1069183</td>\n",
       "      <td>Walking Dead Wiki</td>\n",
       "      <td>tv</td>\n",
       "      <td>10K</td>\n",
       "      <td>100K</td>\n",
       "      <td>1K</td>\n",
       "      <td>0.652640</td>\n",
       "      <td>Bottom third</td>\n",
       "      <td>23</td>\n",
       "    </tr>\n",
       "    <tr>\n",
       "      <th>1</th>\n",
       "      <td>simpsons</td>\n",
       "      <td>5410.0</td>\n",
       "      <td>30943.0</td>\n",
       "      <td>52</td>\n",
       "      <td>The Simpsons</td>\n",
       "      <td>8.7</td>\n",
       "      <td>432296</td>\n",
       "      <td>Simpsons Wiki</td>\n",
       "      <td>tv</td>\n",
       "      <td>20K</td>\n",
       "      <td>100K</td>\n",
       "      <td>1K</td>\n",
       "      <td>0.612733</td>\n",
       "      <td>Top third</td>\n",
       "      <td>117</td>\n",
       "    </tr>\n",
       "    <tr>\n",
       "      <th>2</th>\n",
       "      <td>arrow</td>\n",
       "      <td>3681.0</td>\n",
       "      <td>28806.0</td>\n",
       "      <td>20</td>\n",
       "      <td>The Flash</td>\n",
       "      <td>7.5</td>\n",
       "      <td>366576</td>\n",
       "      <td>Arrowverse Wiki</td>\n",
       "      <td>tv</td>\n",
       "      <td>10K</td>\n",
       "      <td>20K</td>\n",
       "      <td>2K</td>\n",
       "      <td>0.638665</td>\n",
       "      <td>Bottom third</td>\n",
       "      <td>26</td>\n",
       "    </tr>\n",
       "    <tr>\n",
       "      <th>3</th>\n",
       "      <td>greysanatomy</td>\n",
       "      <td>3457.0</td>\n",
       "      <td>13554.0</td>\n",
       "      <td>27</td>\n",
       "      <td>Happy Valley</td>\n",
       "      <td>8.5</td>\n",
       "      <td>63294</td>\n",
       "      <td>Grey's Anatomy Universe Wiki</td>\n",
       "      <td>tv</td>\n",
       "      <td>10K</td>\n",
       "      <td>40K</td>\n",
       "      <td>2K</td>\n",
       "      <td>0.577096</td>\n",
       "      <td>Middle third</td>\n",
       "      <td>70</td>\n",
       "    </tr>\n",
       "    <tr>\n",
       "      <th>4</th>\n",
       "      <td>24</td>\n",
       "      <td>3180.0</td>\n",
       "      <td>73590.0</td>\n",
       "      <td>1</td>\n",
       "      <td>24</td>\n",
       "      <td>8.4</td>\n",
       "      <td>195824</td>\n",
       "      <td>Wiki 24</td>\n",
       "      <td>tv</td>\n",
       "      <td>9K</td>\n",
       "      <td>10K</td>\n",
       "      <td>10</td>\n",
       "      <td>0.419688</td>\n",
       "      <td>Bottom third</td>\n",
       "      <td>11</td>\n",
       "    </tr>\n",
       "    <tr>\n",
       "      <th>...</th>\n",
       "      <td>...</td>\n",
       "      <td>...</td>\n",
       "      <td>...</td>\n",
       "      <td>...</td>\n",
       "      <td>...</td>\n",
       "      <td>...</td>\n",
       "      <td>...</td>\n",
       "      <td>...</td>\n",
       "      <td>...</td>\n",
       "      <td>...</td>\n",
       "      <td>...</td>\n",
       "      <td>...</td>\n",
       "      <td>...</td>\n",
       "      <td>...</td>\n",
       "      <td>...</td>\n",
       "    </tr>\n",
       "    <tr>\n",
       "      <th>128</th>\n",
       "      <td>californication</td>\n",
       "      <td>17.0</td>\n",
       "      <td>67.0</td>\n",
       "      <td>1</td>\n",
       "      <td>Californication</td>\n",
       "      <td>8.3</td>\n",
       "      <td>187628</td>\n",
       "      <td>Californication</td>\n",
       "      <td>tv</td>\n",
       "      <td>100</td>\n",
       "      <td>10</td>\n",
       "      <td>1</td>\n",
       "      <td>0.199638</td>\n",
       "      <td>Bottom third</td>\n",
       "      <td>3</td>\n",
       "    </tr>\n",
       "    <tr>\n",
       "      <th>129</th>\n",
       "      <td>startrekthenextgenerationremix</td>\n",
       "      <td>12.0</td>\n",
       "      <td>3.0</td>\n",
       "      <td>1</td>\n",
       "      <td>Star Trek: The Next Generation</td>\n",
       "      <td>8.7</td>\n",
       "      <td>134151</td>\n",
       "      <td>Star Trek The Next Generation Remix Wiki</td>\n",
       "      <td>tv</td>\n",
       "      <td>400</td>\n",
       "      <td>200</td>\n",
       "      <td>0</td>\n",
       "      <td>0.500000</td>\n",
       "      <td>Top third</td>\n",
       "      <td>2</td>\n",
       "    </tr>\n",
       "    <tr>\n",
       "      <th>130</th>\n",
       "      <td>smallville</td>\n",
       "      <td>8.0</td>\n",
       "      <td>13.0</td>\n",
       "      <td>1</td>\n",
       "      <td>Smallville</td>\n",
       "      <td>7.5</td>\n",
       "      <td>136832</td>\n",
       "      <td>Smallville Wiki</td>\n",
       "      <td>tv</td>\n",
       "      <td>3K</td>\n",
       "      <td>10K</td>\n",
       "      <td>100</td>\n",
       "      <td>0.030612</td>\n",
       "      <td>Bottom third</td>\n",
       "      <td>2</td>\n",
       "    </tr>\n",
       "    <tr>\n",
       "      <th>131</th>\n",
       "      <td>sinner</td>\n",
       "      <td>4.0</td>\n",
       "      <td>3.0</td>\n",
       "      <td>18</td>\n",
       "      <td>The Sinner</td>\n",
       "      <td>7.9</td>\n",
       "      <td>137424</td>\n",
       "      <td>The Sinner Wiki</td>\n",
       "      <td>tv</td>\n",
       "      <td>10</td>\n",
       "      <td>10</td>\n",
       "      <td>0</td>\n",
       "      <td>0.500000</td>\n",
       "      <td>Bottom third</td>\n",
       "      <td>2</td>\n",
       "    </tr>\n",
       "    <tr>\n",
       "      <th>133</th>\n",
       "      <td>fullmetal-alchemist-brotherhood</td>\n",
       "      <td>2.0</td>\n",
       "      <td>1.0</td>\n",
       "      <td>10</td>\n",
       "      <td>Fullmetal Alchemist: Brotherhood</td>\n",
       "      <td>9.1</td>\n",
       "      <td>193966</td>\n",
       "      <td>FullMetal Alchemist Brotherhood Wiki</td>\n",
       "      <td>tv</td>\n",
       "      <td>10</td>\n",
       "      <td>300</td>\n",
       "      <td>10</td>\n",
       "      <td>0.000000</td>\n",
       "      <td>Top third</td>\n",
       "      <td>1</td>\n",
       "    </tr>\n",
       "  </tbody>\n",
       "</table>\n",
       "<p>133 rows × 15 columns</p>\n",
       "</div>"
      ],
      "text/plain": [
       "                                  id   nodes    edges  attribute-count  \\\n",
       "0                        walkingdead  5942.0  72746.0               29   \n",
       "1                           simpsons  5410.0  30943.0               52   \n",
       "2                              arrow  3681.0  28806.0               20   \n",
       "3                       greysanatomy  3457.0  13554.0               27   \n",
       "4                                 24  3180.0  73590.0                1   \n",
       "..                               ...     ...      ...              ...   \n",
       "128                  californication    17.0     67.0                1   \n",
       "129   startrekthenextgenerationremix    12.0      3.0                1   \n",
       "130                       smallville     8.0     13.0                1   \n",
       "131                           sinner     4.0      3.0               18   \n",
       "133  fullmetal-alchemist-brotherhood     2.0      1.0               10   \n",
       "\n",
       "                                title  imdb-score  imdb-votes  \\\n",
       "0                    The Walking Dead         8.1     1069183   \n",
       "1                        The Simpsons         8.7      432296   \n",
       "2                           The Flash         7.5      366576   \n",
       "3                        Happy Valley         8.5       63294   \n",
       "4                                  24         8.4      195824   \n",
       "..                                ...         ...         ...   \n",
       "128                   Californication         8.3      187628   \n",
       "129    Star Trek: The Next Generation         8.7      134151   \n",
       "130                        Smallville         7.5      136832   \n",
       "131                        The Sinner         7.9      137424   \n",
       "133  Fullmetal Alchemist: Brotherhood         9.1      193966   \n",
       "\n",
       "                                 fandom-title fandom-category fandom-pages  \\\n",
       "0                           Walking Dead Wiki              tv          10K   \n",
       "1                               Simpsons Wiki              tv          20K   \n",
       "2                             Arrowverse Wiki              tv          10K   \n",
       "3                Grey's Anatomy Universe Wiki              tv          10K   \n",
       "4                                     Wiki 24              tv           9K   \n",
       "..                                        ...             ...          ...   \n",
       "128                           Californication              tv          100   \n",
       "129  Star Trek The Next Generation Remix Wiki              tv          400   \n",
       "130                           Smallville Wiki              tv           3K   \n",
       "131                           The Sinner Wiki              tv           10   \n",
       "133      FullMetal Alchemist Brotherhood Wiki              tv           10   \n",
       "\n",
       "    fandom-images fandom-videos  modularity     score_cat  commnum  \n",
       "0            100K            1K    0.652640  Bottom third       23  \n",
       "1            100K            1K    0.612733     Top third      117  \n",
       "2             20K            2K    0.638665  Bottom third       26  \n",
       "3             40K            2K    0.577096  Middle third       70  \n",
       "4             10K            10    0.419688  Bottom third       11  \n",
       "..            ...           ...         ...           ...      ...  \n",
       "128            10             1    0.199638  Bottom third        3  \n",
       "129           200             0    0.500000     Top third        2  \n",
       "130           10K           100    0.030612  Bottom third        2  \n",
       "131            10             0    0.500000  Bottom third        2  \n",
       "133           300            10    0.000000     Top third        1  \n",
       "\n",
       "[133 rows x 15 columns]"
      ]
     },
     "execution_count": 74,
     "metadata": {},
     "output_type": "execute_result"
    }
   ],
   "source": [
    "valid_data"
   ]
  },
  {
   "cell_type": "code",
   "execution_count": 75,
   "metadata": {},
   "outputs": [
    {
     "data": {
      "text/plain": [
       "<matplotlib.collections.PathCollection at 0x25c8ce805d0>"
      ]
     },
     "execution_count": 75,
     "metadata": {},
     "output_type": "execute_result"
    },
    {
     "data": {
      "image/png": "[encoded data removed]",
      "text/plain": [
       "<Figure size 640x480 with 1 Axes>"
      ]
     },
     "metadata": {},
     "output_type": "display_data"
    }
   ],
   "source": [
    "plt.scatter(valid_data.loc[valid_data[\"nodes\"]<1000,\"nodes\"],\n",
    "            valid_data.loc[valid_data[\"nodes\"]<1000,\"modularity\"])"
   ]
  },
  {
   "cell_type": "code",
   "execution_count": 76,
   "metadata": {},
   "outputs": [
    {
     "data": {
      "text/plain": [
       "<matplotlib.collections.PathCollection at 0x25c8ceae790>"
      ]
     },
     "execution_count": 76,
     "metadata": {},
     "output_type": "execute_result"
    },
    {
     "data": {
      "image/png": "[encoded data removed]",
      "text/plain": [
       "<Figure size 640x480 with 1 Axes>"
      ]
     },
     "metadata": {},
     "output_type": "display_data"
    }
   ],
   "source": [
    "plt.scatter(valid_data.loc[valid_data[\"edges\"]<8000,\"edges\"],\n",
    "            valid_data.loc[valid_data[\"edges\"]<8000,\"modularity\"])"
   ]
  },
  {
   "cell_type": "code",
   "execution_count": 77,
   "metadata": {},
   "outputs": [
    {
     "data": {
      "text/html": [
       "<div>\n",
       "<style scoped>\n",
       "    .dataframe tbody tr th:only-of-type {\n",
       "        vertical-align: middle;\n",
       "    }\n",
       "\n",
       "    .dataframe tbody tr th {\n",
       "        vertical-align: top;\n",
       "    }\n",
       "\n",
       "    .dataframe thead th {\n",
       "        text-align: right;\n",
       "    }\n",
       "</style>\n",
       "<table border=\"1\" class=\"dataframe\">\n",
       "  <thead>\n",
       "    <tr style=\"text-align: right;\">\n",
       "      <th></th>\n",
       "      <th>id</th>\n",
       "      <th>nodes</th>\n",
       "      <th>edges</th>\n",
       "      <th>attribute-count</th>\n",
       "      <th>title</th>\n",
       "      <th>imdb-score</th>\n",
       "      <th>imdb-votes</th>\n",
       "      <th>fandom-title</th>\n",
       "      <th>fandom-category</th>\n",
       "      <th>fandom-pages</th>\n",
       "      <th>fandom-images</th>\n",
       "      <th>fandom-videos</th>\n",
       "      <th>modularity</th>\n",
       "      <th>score_cat</th>\n",
       "      <th>commnum</th>\n",
       "    </tr>\n",
       "  </thead>\n",
       "  <tbody>\n",
       "    <tr>\n",
       "      <th>0</th>\n",
       "      <td>walkingdead</td>\n",
       "      <td>5942.0</td>\n",
       "      <td>72746.0</td>\n",
       "      <td>29</td>\n",
       "      <td>The Walking Dead</td>\n",
       "      <td>8.1</td>\n",
       "      <td>1069183</td>\n",
       "      <td>Walking Dead Wiki</td>\n",
       "      <td>tv</td>\n",
       "      <td>10K</td>\n",
       "      <td>100K</td>\n",
       "      <td>1K</td>\n",
       "      <td>0.652640</td>\n",
       "      <td>Bottom third</td>\n",
       "      <td>23</td>\n",
       "    </tr>\n",
       "    <tr>\n",
       "      <th>1</th>\n",
       "      <td>simpsons</td>\n",
       "      <td>5410.0</td>\n",
       "      <td>30943.0</td>\n",
       "      <td>52</td>\n",
       "      <td>The Simpsons</td>\n",
       "      <td>8.7</td>\n",
       "      <td>432296</td>\n",
       "      <td>Simpsons Wiki</td>\n",
       "      <td>tv</td>\n",
       "      <td>20K</td>\n",
       "      <td>100K</td>\n",
       "      <td>1K</td>\n",
       "      <td>0.612733</td>\n",
       "      <td>Top third</td>\n",
       "      <td>117</td>\n",
       "    </tr>\n",
       "    <tr>\n",
       "      <th>2</th>\n",
       "      <td>arrow</td>\n",
       "      <td>3681.0</td>\n",
       "      <td>28806.0</td>\n",
       "      <td>20</td>\n",
       "      <td>The Flash</td>\n",
       "      <td>7.5</td>\n",
       "      <td>366576</td>\n",
       "      <td>Arrowverse Wiki</td>\n",
       "      <td>tv</td>\n",
       "      <td>10K</td>\n",
       "      <td>20K</td>\n",
       "      <td>2K</td>\n",
       "      <td>0.638665</td>\n",
       "      <td>Bottom third</td>\n",
       "      <td>26</td>\n",
       "    </tr>\n",
       "    <tr>\n",
       "      <th>3</th>\n",
       "      <td>greysanatomy</td>\n",
       "      <td>3457.0</td>\n",
       "      <td>13554.0</td>\n",
       "      <td>27</td>\n",
       "      <td>Happy Valley</td>\n",
       "      <td>8.5</td>\n",
       "      <td>63294</td>\n",
       "      <td>Grey's Anatomy Universe Wiki</td>\n",
       "      <td>tv</td>\n",
       "      <td>10K</td>\n",
       "      <td>40K</td>\n",
       "      <td>2K</td>\n",
       "      <td>0.577096</td>\n",
       "      <td>Middle third</td>\n",
       "      <td>70</td>\n",
       "    </tr>\n",
       "    <tr>\n",
       "      <th>4</th>\n",
       "      <td>24</td>\n",
       "      <td>3180.0</td>\n",
       "      <td>73590.0</td>\n",
       "      <td>1</td>\n",
       "      <td>24</td>\n",
       "      <td>8.4</td>\n",
       "      <td>195824</td>\n",
       "      <td>Wiki 24</td>\n",
       "      <td>tv</td>\n",
       "      <td>9K</td>\n",
       "      <td>10K</td>\n",
       "      <td>10</td>\n",
       "      <td>0.419688</td>\n",
       "      <td>Bottom third</td>\n",
       "      <td>11</td>\n",
       "    </tr>\n",
       "    <tr>\n",
       "      <th>5</th>\n",
       "      <td>supernatural</td>\n",
       "      <td>2634.0</td>\n",
       "      <td>28951.0</td>\n",
       "      <td>50</td>\n",
       "      <td>Paranormal</td>\n",
       "      <td>8.0</td>\n",
       "      <td>74176</td>\n",
       "      <td>Supernatural Wiki</td>\n",
       "      <td>tv</td>\n",
       "      <td>5K</td>\n",
       "      <td>10K</td>\n",
       "      <td>400</td>\n",
       "      <td>0.397708</td>\n",
       "      <td>Bottom third</td>\n",
       "      <td>12</td>\n",
       "    </tr>\n",
       "    <tr>\n",
       "      <th>6</th>\n",
       "      <td>southpark</td>\n",
       "      <td>2455.0</td>\n",
       "      <td>154953.0</td>\n",
       "      <td>63</td>\n",
       "      <td>South Park</td>\n",
       "      <td>8.7</td>\n",
       "      <td>402704</td>\n",
       "      <td>South Park Archives</td>\n",
       "      <td>tv</td>\n",
       "      <td>6K</td>\n",
       "      <td>50K</td>\n",
       "      <td>500</td>\n",
       "      <td>0.594021</td>\n",
       "      <td>Top third</td>\n",
       "      <td>15</td>\n",
       "    </tr>\n",
       "    <tr>\n",
       "      <th>7</th>\n",
       "      <td>bones</td>\n",
       "      <td>1720.0</td>\n",
       "      <td>2509.0</td>\n",
       "      <td>35</td>\n",
       "      <td>Bones</td>\n",
       "      <td>7.8</td>\n",
       "      <td>174271</td>\n",
       "      <td>Bones Wiki</td>\n",
       "      <td>tv</td>\n",
       "      <td>2K</td>\n",
       "      <td>5K</td>\n",
       "      <td>700</td>\n",
       "      <td>0.719678</td>\n",
       "      <td>Bottom third</td>\n",
       "      <td>213</td>\n",
       "    </tr>\n",
       "    <tr>\n",
       "      <th>8</th>\n",
       "      <td>house</td>\n",
       "      <td>1513.0</td>\n",
       "      <td>5005.0</td>\n",
       "      <td>33</td>\n",
       "      <td>House</td>\n",
       "      <td>8.7</td>\n",
       "      <td>503036</td>\n",
       "      <td>House Wiki</td>\n",
       "      <td>tv</td>\n",
       "      <td>6K</td>\n",
       "      <td>1K</td>\n",
       "      <td>300</td>\n",
       "      <td>0.352144</td>\n",
       "      <td>Top third</td>\n",
       "      <td>23</td>\n",
       "    </tr>\n",
       "    <tr>\n",
       "      <th>9</th>\n",
       "      <td>familyguy</td>\n",
       "      <td>1321.0</td>\n",
       "      <td>2541.0</td>\n",
       "      <td>8</td>\n",
       "      <td>Family Guy</td>\n",
       "      <td>8.2</td>\n",
       "      <td>361387</td>\n",
       "      <td>Family Guy Wiki</td>\n",
       "      <td>tv</td>\n",
       "      <td>7K</td>\n",
       "      <td>9K</td>\n",
       "      <td>10</td>\n",
       "      <td>0.549802</td>\n",
       "      <td>Bottom third</td>\n",
       "      <td>40</td>\n",
       "    </tr>\n",
       "  </tbody>\n",
       "</table>\n",
       "</div>"
      ],
      "text/plain": [
       "             id   nodes     edges  attribute-count             title  \\\n",
       "0   walkingdead  5942.0   72746.0               29  The Walking Dead   \n",
       "1      simpsons  5410.0   30943.0               52      The Simpsons   \n",
       "2         arrow  3681.0   28806.0               20         The Flash   \n",
       "3  greysanatomy  3457.0   13554.0               27      Happy Valley   \n",
       "4            24  3180.0   73590.0                1                24   \n",
       "5  supernatural  2634.0   28951.0               50        Paranormal   \n",
       "6     southpark  2455.0  154953.0               63        South Park   \n",
       "7         bones  1720.0    2509.0               35             Bones   \n",
       "8         house  1513.0    5005.0               33             House   \n",
       "9     familyguy  1321.0    2541.0                8        Family Guy   \n",
       "\n",
       "   imdb-score  imdb-votes                  fandom-title fandom-category  \\\n",
       "0         8.1     1069183             Walking Dead Wiki              tv   \n",
       "1         8.7      432296                 Simpsons Wiki              tv   \n",
       "2         7.5      366576               Arrowverse Wiki              tv   \n",
       "3         8.5       63294  Grey's Anatomy Universe Wiki              tv   \n",
       "4         8.4      195824                       Wiki 24              tv   \n",
       "5         8.0       74176             Supernatural Wiki              tv   \n",
       "6         8.7      402704           South Park Archives              tv   \n",
       "7         7.8      174271                    Bones Wiki              tv   \n",
       "8         8.7      503036                    House Wiki              tv   \n",
       "9         8.2      361387               Family Guy Wiki              tv   \n",
       "\n",
       "  fandom-pages fandom-images fandom-videos  modularity     score_cat  commnum  \n",
       "0          10K          100K            1K    0.652640  Bottom third       23  \n",
       "1          20K          100K            1K    0.612733     Top third      117  \n",
       "2          10K           20K            2K    0.638665  Bottom third       26  \n",
       "3          10K           40K            2K    0.577096  Middle third       70  \n",
       "4           9K           10K            10    0.419688  Bottom third       11  \n",
       "5           5K           10K           400    0.397708  Bottom third       12  \n",
       "6           6K           50K           500    0.594021     Top third       15  \n",
       "7           2K            5K           700    0.719678  Bottom third      213  \n",
       "8           6K            1K           300    0.352144     Top third       23  \n",
       "9           7K            9K            10    0.549802  Bottom third       40  "
      ]
     },
     "execution_count": 77,
     "metadata": {},
     "output_type": "execute_result"
    }
   ],
   "source": [
    "valid_data.loc[valid_data[\"nodes\"]>1000]"
   ]
  },
  {
   "cell_type": "code",
   "execution_count": 78,
   "metadata": {},
   "outputs": [
    {
     "data": {
      "text/plain": [
       "(array([ 2.,  2., 11.,  6., 22., 31., 21., 28.,  7.,  3.]),\n",
       " array([6.8 , 7.07, 7.34, 7.61, 7.88, 8.15, 8.42, 8.69, 8.96, 9.23, 9.5 ]),\n",
       " <BarContainer object of 10 artists>)"
      ]
     },
     "execution_count": 78,
     "metadata": {},
     "output_type": "execute_result"
    },
    {
     "data": {
      "image/png": "[encoded data removed]",
      "text/plain": [
       "<Figure size 640x480 with 1 Axes>"
      ]
     },
     "metadata": {},
     "output_type": "display_data"
    }
   ],
   "source": [
    "plt.hist(valid_data[\"imdb-score\"])"
   ]
  },
  {
   "cell_type": "code",
   "execution_count": 79,
   "metadata": {},
   "outputs": [
    {
     "data": {
      "text/plain": [
       "0.33    8.2\n",
       "0.66    8.6\n",
       "Name: imdb-score, dtype: float64"
      ]
     },
     "execution_count": 79,
     "metadata": {},
     "output_type": "execute_result"
    }
   ],
   "source": [
    "valid_data[\"imdb-score\"].quantile([0.33,0.66])"
   ]
  },
  {
   "cell_type": "code",
   "execution_count": 80,
   "metadata": {},
   "outputs": [
    {
     "name": "stderr",
     "output_type": "stream",
     "text": [
      "C:\\Users\\tomi\\AppData\\Local\\Temp\\ipykernel_14232\\1132264519.py:3: SettingWithCopyWarning: \n",
      "A value is trying to be set on a copy of a slice from a DataFrame.\n",
      "Try using .loc[row_indexer,col_indexer] = value instead\n",
      "\n",
      "See the caveats in the documentation: https://pandas.pydata.org/pandas-docs/stable/user_guide/indexing.html#returning-a-view-versus-a-copy\n",
      "  valid_data['score_cat'] = pd.cut(valid_data['imdb-score'], bins=bins, labels=labels)\n"
     ]
    }
   ],
   "source": [
    "bins = [6.8, 8.4,8.6, 9.8 ]\n",
    "labels = ['Bottom third','Middle third','Top third']\n",
    "valid_data['score_cat'] = pd.cut(valid_data['imdb-score'], bins=bins, labels=labels)"
   ]
  },
  {
   "cell_type": "code",
   "execution_count": 117,
   "metadata": {},
   "outputs": [
    {
     "name": "stderr",
     "output_type": "stream",
     "text": [
      "C:\\Users\\tomi\\AppData\\Local\\Temp\\ipykernel_14232\\3939152329.py:2: FutureWarning: The default of observed=False is deprecated and will be changed to True in a future version of pandas. Pass observed=False to retain current behavior or observed=True to adopt the future default and silence this warning.\n",
      "  (valid_data[\"nodes\"]>50)].groupby('score_cat')\n"
     ]
    },
    {
     "data": {
      "text/plain": [
       "'\\nplt.annotate(\"For All Mankind\",\\n             xy=(422,0.03),\\n             xytext=(400,0.2),\\n            arrowprops=dict(facecolor=\"black\", shrink=0.05))\\n'"
      ]
     },
     "execution_count": 117,
     "metadata": {},
     "output_type": "execute_result"
    },
    {
     "data": {
      "image/png": "[encoded data removed]",
      "text/plain": [
       "<Figure size 640x480 with 1 Axes>"
      ]
     },
     "metadata": {},
     "output_type": "display_data"
    }
   ],
   "source": [
    "groups = valid_data.loc[(valid_data[\"nodes\"]<500) & \n",
    "                        (valid_data[\"nodes\"]>50)].groupby('score_cat')\n",
    "for name, group in groups:\n",
    "    plt.scatter(group.nodes, group.modularity, label=name)\n",
    "\n",
    "plt.legend()\n",
    "plt.annotate(\"Black Mirror\",\n",
    "             xy=(218,0.90),\n",
    "             xytext=(180,0.77),\n",
    "            arrowprops=dict(facecolor=\"black\", shrink=0.05))\n",
    "plt.annotate(\"Love Death and Robots\",\n",
    "             xy=(88,0.79),\n",
    "             xytext=(75,0.60),\n",
    "            arrowprops=dict(facecolor=\"black\", shrink=0.05))\n",
    "\"\"\"\n",
    "plt.annotate(\"For All Mankind\",\n",
    "             xy=(422,0.03),\n",
    "             xytext=(400,0.2),\n",
    "            arrowprops=dict(facecolor=\"black\", shrink=0.05))\n",
    "\"\"\"\n"
   ]
  },
  {
   "cell_type": "code",
   "execution_count": 87,
   "metadata": {},
   "outputs": [
    {
     "data": {
      "text/html": [
       "<div>\n",
       "<style scoped>\n",
       "    .dataframe tbody tr th:only-of-type {\n",
       "        vertical-align: middle;\n",
       "    }\n",
       "\n",
       "    .dataframe tbody tr th {\n",
       "        vertical-align: top;\n",
       "    }\n",
       "\n",
       "    .dataframe thead th {\n",
       "        text-align: right;\n",
       "    }\n",
       "</style>\n",
       "<table border=\"1\" class=\"dataframe\">\n",
       "  <thead>\n",
       "    <tr style=\"text-align: right;\">\n",
       "      <th></th>\n",
       "      <th>id</th>\n",
       "      <th>nodes</th>\n",
       "      <th>edges</th>\n",
       "      <th>attribute-count</th>\n",
       "      <th>title</th>\n",
       "      <th>imdb-score</th>\n",
       "      <th>imdb-votes</th>\n",
       "      <th>fandom-title</th>\n",
       "      <th>fandom-category</th>\n",
       "      <th>fandom-pages</th>\n",
       "      <th>fandom-images</th>\n",
       "      <th>fandom-videos</th>\n",
       "      <th>modularity</th>\n",
       "      <th>score_cat</th>\n",
       "      <th>commnum</th>\n",
       "    </tr>\n",
       "  </thead>\n",
       "  <tbody>\n",
       "    <tr>\n",
       "      <th>63</th>\n",
       "      <td>black-mirror</td>\n",
       "      <td>217.0</td>\n",
       "      <td>513.0</td>\n",
       "      <td>11</td>\n",
       "      <td>Black Mirror</td>\n",
       "      <td>8.7</td>\n",
       "      <td>631229</td>\n",
       "      <td>Black Mirror Wiki</td>\n",
       "      <td>tv</td>\n",
       "      <td>400</td>\n",
       "      <td>600</td>\n",
       "      <td>10</td>\n",
       "      <td>0.917006</td>\n",
       "      <td>Top third</td>\n",
       "      <td>25</td>\n",
       "    </tr>\n",
       "    <tr>\n",
       "      <th>99</th>\n",
       "      <td>lovedeathrobots</td>\n",
       "      <td>88.0</td>\n",
       "      <td>153.0</td>\n",
       "      <td>16</td>\n",
       "      <td>Love, Death &amp; Robots</td>\n",
       "      <td>8.4</td>\n",
       "      <td>193278</td>\n",
       "      <td>Love, Death &amp; Robots Wiki</td>\n",
       "      <td>tv</td>\n",
       "      <td>100</td>\n",
       "      <td>600</td>\n",
       "      <td>10</td>\n",
       "      <td>0.806400</td>\n",
       "      <td>Bottom third</td>\n",
       "      <td>15</td>\n",
       "    </tr>\n",
       "    <tr>\n",
       "      <th>120</th>\n",
       "      <td>thewhitelotus</td>\n",
       "      <td>38.0</td>\n",
       "      <td>31.0</td>\n",
       "      <td>14</td>\n",
       "      <td>The White Lotus</td>\n",
       "      <td>8.0</td>\n",
       "      <td>198788</td>\n",
       "      <td>The White Lotus Wiki</td>\n",
       "      <td>tv</td>\n",
       "      <td>10</td>\n",
       "      <td>100</td>\n",
       "      <td>1</td>\n",
       "      <td>0.784580</td>\n",
       "      <td>Bottom third</td>\n",
       "      <td>6</td>\n",
       "    </tr>\n",
       "  </tbody>\n",
       "</table>\n",
       "</div>"
      ],
      "text/plain": [
       "                  id  nodes  edges  attribute-count                 title  \\\n",
       "63      black-mirror  217.0  513.0               11          Black Mirror   \n",
       "99   lovedeathrobots   88.0  153.0               16  Love, Death & Robots   \n",
       "120    thewhitelotus   38.0   31.0               14       The White Lotus   \n",
       "\n",
       "     imdb-score  imdb-votes               fandom-title fandom-category  \\\n",
       "63          8.7      631229          Black Mirror Wiki              tv   \n",
       "99          8.4      193278  Love, Death & Robots Wiki              tv   \n",
       "120         8.0      198788       The White Lotus Wiki              tv   \n",
       "\n",
       "    fandom-pages fandom-images fandom-videos  modularity     score_cat  \\\n",
       "63           400           600            10    0.917006     Top third   \n",
       "99           100           600            10    0.806400  Bottom third   \n",
       "120           10           100             1    0.784580  Bottom third   \n",
       "\n",
       "     commnum  \n",
       "63        25  \n",
       "99        15  \n",
       "120        6  "
      ]
     },
     "execution_count": 87,
     "metadata": {},
     "output_type": "execute_result"
    }
   ],
   "source": [
    "valid_data[valid_data[\"modularity\"] > 0.75]"
   ]
  },
  {
   "cell_type": "code",
   "execution_count": 88,
   "metadata": {},
   "outputs": [
    {
     "data": {
      "text/html": [
       "<div>\n",
       "<style scoped>\n",
       "    .dataframe tbody tr th:only-of-type {\n",
       "        vertical-align: middle;\n",
       "    }\n",
       "\n",
       "    .dataframe tbody tr th {\n",
       "        vertical-align: top;\n",
       "    }\n",
       "\n",
       "    .dataframe thead th {\n",
       "        text-align: right;\n",
       "    }\n",
       "</style>\n",
       "<table border=\"1\" class=\"dataframe\">\n",
       "  <thead>\n",
       "    <tr style=\"text-align: right;\">\n",
       "      <th></th>\n",
       "      <th>id</th>\n",
       "      <th>nodes</th>\n",
       "      <th>edges</th>\n",
       "      <th>attribute-count</th>\n",
       "      <th>title</th>\n",
       "      <th>imdb-score</th>\n",
       "      <th>imdb-votes</th>\n",
       "      <th>fandom-title</th>\n",
       "      <th>fandom-category</th>\n",
       "      <th>fandom-pages</th>\n",
       "      <th>fandom-images</th>\n",
       "      <th>fandom-videos</th>\n",
       "      <th>modularity</th>\n",
       "      <th>score_cat</th>\n",
       "      <th>commnum</th>\n",
       "    </tr>\n",
       "  </thead>\n",
       "  <tbody>\n",
       "    <tr>\n",
       "      <th>30</th>\n",
       "      <td>for-all-mankind</td>\n",
       "      <td>424.0</td>\n",
       "      <td>73.0</td>\n",
       "      <td>35</td>\n",
       "      <td>For All Mankind</td>\n",
       "      <td>8.1</td>\n",
       "      <td>65480</td>\n",
       "      <td>For All Mankind Wiki</td>\n",
       "      <td>tv</td>\n",
       "      <td>700</td>\n",
       "      <td>5K</td>\n",
       "      <td>10</td>\n",
       "      <td>0.0</td>\n",
       "      <td>Bottom third</td>\n",
       "      <td>1</td>\n",
       "    </tr>\n",
       "    <tr>\n",
       "      <th>133</th>\n",
       "      <td>fullmetal-alchemist-brotherhood</td>\n",
       "      <td>2.0</td>\n",
       "      <td>1.0</td>\n",
       "      <td>10</td>\n",
       "      <td>Fullmetal Alchemist: Brotherhood</td>\n",
       "      <td>9.1</td>\n",
       "      <td>193966</td>\n",
       "      <td>FullMetal Alchemist Brotherhood Wiki</td>\n",
       "      <td>tv</td>\n",
       "      <td>10</td>\n",
       "      <td>300</td>\n",
       "      <td>10</td>\n",
       "      <td>0.0</td>\n",
       "      <td>Top third</td>\n",
       "      <td>1</td>\n",
       "    </tr>\n",
       "  </tbody>\n",
       "</table>\n",
       "</div>"
      ],
      "text/plain": [
       "                                  id  nodes  edges  attribute-count  \\\n",
       "30                   for-all-mankind  424.0   73.0               35   \n",
       "133  fullmetal-alchemist-brotherhood    2.0    1.0               10   \n",
       "\n",
       "                                title  imdb-score  imdb-votes  \\\n",
       "30                    For All Mankind         8.1       65480   \n",
       "133  Fullmetal Alchemist: Brotherhood         9.1      193966   \n",
       "\n",
       "                             fandom-title fandom-category fandom-pages  \\\n",
       "30                   For All Mankind Wiki              tv          700   \n",
       "133  FullMetal Alchemist Brotherhood Wiki              tv           10   \n",
       "\n",
       "    fandom-images fandom-videos  modularity     score_cat  commnum  \n",
       "30             5K            10         0.0  Bottom third        1  \n",
       "133           300            10         0.0     Top third        1  "
      ]
     },
     "execution_count": 88,
     "metadata": {},
     "output_type": "execute_result"
    }
   ],
   "source": [
    "valid_data[valid_data[\"modularity\"] == 0]"
   ]
  },
  {
   "cell_type": "code",
   "execution_count": null,
   "metadata": {},
   "outputs": [],
   "source": []
  },
  {
   "cell_type": "code",
   "execution_count": null,
   "metadata": {},
   "outputs": [],
   "source": []
  },
  {
   "cell_type": "code",
   "execution_count": null,
   "metadata": {},
   "outputs": [],
   "source": []
  },
  {
   "cell_type": "code",
   "execution_count": 36,
   "metadata": {},
   "outputs": [
    {
     "data": {
      "text/plain": [
       "<matplotlib.collections.PathCollection at 0x25c8761ccd0>"
      ]
     },
     "execution_count": 36,
     "metadata": {},
     "output_type": "execute_result"
    },
    {
     "data": {
      "image/png": "[encoded data removed]",
      "text/plain": [
       "<Figure size 640x480 with 1 Axes>"
      ]
     },
     "metadata": {},
     "output_type": "display_data"
    }
   ],
   "source": [
    "plt.scatter(valid_data.loc[valid_data[\"nodes\"]>50,\"imdb-score\"],\n",
    "            valid_data.loc[valid_data[\"nodes\"]>50,\"modularity\"])"
   ]
  },
  {
   "cell_type": "code",
   "execution_count": null,
   "metadata": {},
   "outputs": [],
   "source": [
    "plt.hist(meta.loc[meta[\"nodes\"]<1000,\"nodes\"])"
   ]
  },
  {
   "cell_type": "markdown",
   "metadata": {},
   "source": [
    "## Other idea"
   ]
  },
  {
   "cell_type": "code",
   "execution_count": 42,
   "metadata": {},
   "outputs": [
    {
     "data": {
      "text/html": [
       "<div>\n",
       "<style scoped>\n",
       "    .dataframe tbody tr th:only-of-type {\n",
       "        vertical-align: middle;\n",
       "    }\n",
       "\n",
       "    .dataframe tbody tr th {\n",
       "        vertical-align: top;\n",
       "    }\n",
       "\n",
       "    .dataframe thead th {\n",
       "        text-align: right;\n",
       "    }\n",
       "</style>\n",
       "<table border=\"1\" class=\"dataframe\">\n",
       "  <thead>\n",
       "    <tr style=\"text-align: right;\">\n",
       "      <th></th>\n",
       "      <th>id</th>\n",
       "      <th>nodes</th>\n",
       "      <th>edges</th>\n",
       "      <th>attribute-count</th>\n",
       "      <th>title</th>\n",
       "      <th>imdb-score</th>\n",
       "      <th>imdb-votes</th>\n",
       "      <th>fandom-title</th>\n",
       "      <th>fandom-category</th>\n",
       "      <th>fandom-pages</th>\n",
       "      <th>fandom-images</th>\n",
       "      <th>fandom-videos</th>\n",
       "      <th>modularity</th>\n",
       "      <th>score_cat</th>\n",
       "    </tr>\n",
       "  </thead>\n",
       "  <tbody>\n",
       "    <tr>\n",
       "      <th>63</th>\n",
       "      <td>black-mirror</td>\n",
       "      <td>217.0</td>\n",
       "      <td>513.0</td>\n",
       "      <td>11</td>\n",
       "      <td>Black Mirror</td>\n",
       "      <td>8.7</td>\n",
       "      <td>631229</td>\n",
       "      <td>Black Mirror Wiki</td>\n",
       "      <td>tv</td>\n",
       "      <td>400</td>\n",
       "      <td>600</td>\n",
       "      <td>10</td>\n",
       "      <td>0.917006</td>\n",
       "      <td>above 9</td>\n",
       "    </tr>\n",
       "  </tbody>\n",
       "</table>\n",
       "</div>"
      ],
      "text/plain": [
       "              id  nodes  edges  attribute-count         title  imdb-score  \\\n",
       "63  black-mirror  217.0  513.0               11  Black Mirror         8.7   \n",
       "\n",
       "    imdb-votes       fandom-title fandom-category fandom-pages fandom-images  \\\n",
       "63      631229  Black Mirror Wiki              tv          400           600   \n",
       "\n",
       "   fandom-videos  modularity score_cat  \n",
       "63            10    0.917006   above 9  "
      ]
     },
     "execution_count": 42,
     "metadata": {},
     "output_type": "execute_result"
    }
   ],
   "source": [
    "valid_data.loc[valid_data[\"id\"] == \"black-mirror\",:]"
   ]
  },
  {
   "cell_type": "markdown",
   "metadata": {},
   "source": [
    "#### Histograms"
   ]
  },
  {
   "cell_type": "code",
   "execution_count": 118,
   "metadata": {},
   "outputs": [],
   "source": [
    "import seaborn as sns"
   ]
  },
  {
   "cell_type": "code",
   "execution_count": 119,
   "metadata": {},
   "outputs": [
    {
     "data": {
      "text/html": [
       "<div>\n",
       "<style scoped>\n",
       "    .dataframe tbody tr th:only-of-type {\n",
       "        vertical-align: middle;\n",
       "    }\n",
       "\n",
       "    .dataframe tbody tr th {\n",
       "        vertical-align: top;\n",
       "    }\n",
       "\n",
       "    .dataframe thead th {\n",
       "        text-align: right;\n",
       "    }\n",
       "</style>\n",
       "<table border=\"1\" class=\"dataframe\">\n",
       "  <thead>\n",
       "    <tr style=\"text-align: right;\">\n",
       "      <th></th>\n",
       "      <th>id</th>\n",
       "      <th>nodes</th>\n",
       "      <th>edges</th>\n",
       "      <th>attribute-count</th>\n",
       "      <th>title</th>\n",
       "      <th>imdb-score</th>\n",
       "      <th>imdb-votes</th>\n",
       "      <th>fandom-title</th>\n",
       "      <th>fandom-category</th>\n",
       "      <th>fandom-pages</th>\n",
       "      <th>fandom-images</th>\n",
       "      <th>fandom-videos</th>\n",
       "      <th>modularity</th>\n",
       "      <th>score_cat</th>\n",
       "      <th>commnum</th>\n",
       "    </tr>\n",
       "  </thead>\n",
       "  <tbody>\n",
       "    <tr>\n",
       "      <th>0</th>\n",
       "      <td>walkingdead</td>\n",
       "      <td>5942.0</td>\n",
       "      <td>72746.0</td>\n",
       "      <td>29</td>\n",
       "      <td>The Walking Dead</td>\n",
       "      <td>8.1</td>\n",
       "      <td>1069183</td>\n",
       "      <td>Walking Dead Wiki</td>\n",
       "      <td>tv</td>\n",
       "      <td>10K</td>\n",
       "      <td>100K</td>\n",
       "      <td>1K</td>\n",
       "      <td>0.652640</td>\n",
       "      <td>Bottom third</td>\n",
       "      <td>23</td>\n",
       "    </tr>\n",
       "    <tr>\n",
       "      <th>1</th>\n",
       "      <td>simpsons</td>\n",
       "      <td>5410.0</td>\n",
       "      <td>30943.0</td>\n",
       "      <td>52</td>\n",
       "      <td>The Simpsons</td>\n",
       "      <td>8.7</td>\n",
       "      <td>432296</td>\n",
       "      <td>Simpsons Wiki</td>\n",
       "      <td>tv</td>\n",
       "      <td>20K</td>\n",
       "      <td>100K</td>\n",
       "      <td>1K</td>\n",
       "      <td>0.612733</td>\n",
       "      <td>Top third</td>\n",
       "      <td>117</td>\n",
       "    </tr>\n",
       "    <tr>\n",
       "      <th>2</th>\n",
       "      <td>arrow</td>\n",
       "      <td>3681.0</td>\n",
       "      <td>28806.0</td>\n",
       "      <td>20</td>\n",
       "      <td>The Flash</td>\n",
       "      <td>7.5</td>\n",
       "      <td>366576</td>\n",
       "      <td>Arrowverse Wiki</td>\n",
       "      <td>tv</td>\n",
       "      <td>10K</td>\n",
       "      <td>20K</td>\n",
       "      <td>2K</td>\n",
       "      <td>0.638665</td>\n",
       "      <td>Bottom third</td>\n",
       "      <td>26</td>\n",
       "    </tr>\n",
       "    <tr>\n",
       "      <th>3</th>\n",
       "      <td>greysanatomy</td>\n",
       "      <td>3457.0</td>\n",
       "      <td>13554.0</td>\n",
       "      <td>27</td>\n",
       "      <td>Happy Valley</td>\n",
       "      <td>8.5</td>\n",
       "      <td>63294</td>\n",
       "      <td>Grey's Anatomy Universe Wiki</td>\n",
       "      <td>tv</td>\n",
       "      <td>10K</td>\n",
       "      <td>40K</td>\n",
       "      <td>2K</td>\n",
       "      <td>0.577096</td>\n",
       "      <td>Middle third</td>\n",
       "      <td>70</td>\n",
       "    </tr>\n",
       "    <tr>\n",
       "      <th>4</th>\n",
       "      <td>24</td>\n",
       "      <td>3180.0</td>\n",
       "      <td>73590.0</td>\n",
       "      <td>1</td>\n",
       "      <td>24</td>\n",
       "      <td>8.4</td>\n",
       "      <td>195824</td>\n",
       "      <td>Wiki 24</td>\n",
       "      <td>tv</td>\n",
       "      <td>9K</td>\n",
       "      <td>10K</td>\n",
       "      <td>10</td>\n",
       "      <td>0.419688</td>\n",
       "      <td>Bottom third</td>\n",
       "      <td>11</td>\n",
       "    </tr>\n",
       "  </tbody>\n",
       "</table>\n",
       "</div>"
      ],
      "text/plain": [
       "             id   nodes    edges  attribute-count             title  \\\n",
       "0   walkingdead  5942.0  72746.0               29  The Walking Dead   \n",
       "1      simpsons  5410.0  30943.0               52      The Simpsons   \n",
       "2         arrow  3681.0  28806.0               20         The Flash   \n",
       "3  greysanatomy  3457.0  13554.0               27      Happy Valley   \n",
       "4            24  3180.0  73590.0                1                24   \n",
       "\n",
       "   imdb-score  imdb-votes                  fandom-title fandom-category  \\\n",
       "0         8.1     1069183             Walking Dead Wiki              tv   \n",
       "1         8.7      432296                 Simpsons Wiki              tv   \n",
       "2         7.5      366576               Arrowverse Wiki              tv   \n",
       "3         8.5       63294  Grey's Anatomy Universe Wiki              tv   \n",
       "4         8.4      195824                       Wiki 24              tv   \n",
       "\n",
       "  fandom-pages fandom-images fandom-videos  modularity     score_cat  commnum  \n",
       "0          10K          100K            1K    0.652640  Bottom third       23  \n",
       "1          20K          100K            1K    0.612733     Top third      117  \n",
       "2          10K           20K            2K    0.638665  Bottom third       26  \n",
       "3          10K           40K            2K    0.577096  Middle third       70  \n",
       "4           9K           10K            10    0.419688  Bottom third       11  "
      ]
     },
     "execution_count": 119,
     "metadata": {},
     "output_type": "execute_result"
    }
   ],
   "source": [
    "valid_data.head()"
   ]
  },
  {
   "cell_type": "code",
   "execution_count": 132,
   "metadata": {},
   "outputs": [],
   "source": [
    "score_cats = [\"Bottom third\",\"Middle third\",\"Top third\"]\n"
   ]
  },
  {
   "cell_type": "code",
   "execution_count": 133,
   "metadata": {},
   "outputs": [
    {
     "data": {
      "text/plain": [
       "['Bottom third', 'Middle third', 'Top third']"
      ]
     },
     "execution_count": 133,
     "metadata": {},
     "output_type": "execute_result"
    }
   ],
   "source": [
    "score_cats"
   ]
  },
  {
   "cell_type": "code",
   "execution_count": 134,
   "metadata": {},
   "outputs": [
    {
     "name": "stderr",
     "output_type": "stream",
     "text": [
      "C:\\Users\\tomi\\AppData\\Local\\Temp\\ipykernel_14232\\4124724438.py:1: UserWarning: \n",
      "\n",
      "`distplot` is a deprecated function and will be removed in seaborn v0.14.0.\n",
      "\n",
      "Please adapt your code to use either `displot` (a figure-level function with\n",
      "similar flexibility) or `histplot` (an axes-level function for histograms).\n",
      "\n",
      "For a guide to updating your code to use the new functions, please see\n",
      "https://gist.github.com/mwaskom/de44147ed2974457ad6372750bbe5751\n",
      "\n",
      "  sns.distplot(valid_data[\"modularity\"])\n"
     ]
    },
    {
     "data": {
      "text/plain": [
       "<Axes: xlabel='modularity', ylabel='Density'>"
      ]
     },
     "execution_count": 134,
     "metadata": {},
     "output_type": "execute_result"
    },
    {
     "data": {
      "image/png": "[encoded data removed]",
      "text/plain": [
       "<Figure size 640x480 with 1 Axes>"
      ]
     },
     "metadata": {},
     "output_type": "display_data"
    }
   ],
   "source": [
    "sns.distplot(valid_data[\"modularity\"])"
   ]
  },
  {
   "cell_type": "code",
   "execution_count": 136,
   "metadata": {},
   "outputs": [
    {
     "name": "stderr",
     "output_type": "stream",
     "text": [
      "C:\\Users\\tomi\\AppData\\Local\\Temp\\ipykernel_14232\\3074462423.py:6: UserWarning: \n",
      "\n",
      "`distplot` is a deprecated function and will be removed in seaborn v0.14.0.\n",
      "\n",
      "Please adapt your code to use either `displot` (a figure-level function with\n",
      "similar flexibility) or `kdeplot` (an axes-level function for kernel density plots).\n",
      "\n",
      "For a guide to updating your code to use the new functions, please see\n",
      "https://gist.github.com/mwaskom/de44147ed2974457ad6372750bbe5751\n",
      "\n",
      "  sns.distplot(subset['modularity'], hist = False, kde = True,\n",
      "c:\\Users\\tomi\\AppData\\Local\\Programs\\Python\\Python311\\Lib\\site-packages\\seaborn\\distributions.py:2496: FutureWarning: \n",
      "\n",
      "`shade` is now deprecated in favor of `fill`; setting `fill=True`.\n",
      "This will become an error in seaborn v0.14.0; please update your code.\n",
      "\n",
      "  kdeplot(**{axis: a}, ax=ax, color=kde_color, **kde_kws)\n",
      "C:\\Users\\tomi\\AppData\\Local\\Temp\\ipykernel_14232\\3074462423.py:6: UserWarning: \n",
      "\n",
      "`distplot` is a deprecated function and will be removed in seaborn v0.14.0.\n",
      "\n",
      "Please adapt your code to use either `displot` (a figure-level function with\n",
      "similar flexibility) or `kdeplot` (an axes-level function for kernel density plots).\n",
      "\n",
      "For a guide to updating your code to use the new functions, please see\n",
      "https://gist.github.com/mwaskom/de44147ed2974457ad6372750bbe5751\n",
      "\n",
      "  sns.distplot(subset['modularity'], hist = False, kde = True,\n",
      "c:\\Users\\tomi\\AppData\\Local\\Programs\\Python\\Python311\\Lib\\site-packages\\seaborn\\distributions.py:2496: FutureWarning: \n",
      "\n",
      "`shade` is now deprecated in favor of `fill`; setting `fill=True`.\n",
      "This will become an error in seaborn v0.14.0; please update your code.\n",
      "\n",
      "  kdeplot(**{axis: a}, ax=ax, color=kde_color, **kde_kws)\n",
      "C:\\Users\\tomi\\AppData\\Local\\Temp\\ipykernel_14232\\3074462423.py:6: UserWarning: \n",
      "\n",
      "`distplot` is a deprecated function and will be removed in seaborn v0.14.0.\n",
      "\n",
      "Please adapt your code to use either `displot` (a figure-level function with\n",
      "similar flexibility) or `kdeplot` (an axes-level function for kernel density plots).\n",
      "\n",
      "For a guide to updating your code to use the new functions, please see\n",
      "https://gist.github.com/mwaskom/de44147ed2974457ad6372750bbe5751\n",
      "\n",
      "  sns.distplot(subset['modularity'], hist = False, kde = True,\n",
      "c:\\Users\\tomi\\AppData\\Local\\Programs\\Python\\Python311\\Lib\\site-packages\\seaborn\\distributions.py:2496: FutureWarning: \n",
      "\n",
      "`shade` is now deprecated in favor of `fill`; setting `fill=True`.\n",
      "This will become an error in seaborn v0.14.0; please update your code.\n",
      "\n",
      "  kdeplot(**{axis: a}, ax=ax, color=kde_color, **kde_kws)\n"
     ]
    },
    {
     "data": {
      "text/plain": [
       "Text(0, 0.5, 'Density')"
      ]
     },
     "execution_count": 136,
     "metadata": {},
     "output_type": "execute_result"
    },
    {
     "data": {
      "image/png": "[encoded data removed]",
      "text/plain": [
       "<Figure size 640x480 with 1 Axes>"
      ]
     },
     "metadata": {},
     "output_type": "display_data"
    }
   ],
   "source": [
    "\n",
    "for cat in score_cats:\n",
    "    # Subset to the airline\n",
    "    subset = valid_data[valid_data['score_cat'] == cat]\n",
    "    \n",
    "    # Draw the density plot\n",
    "    sns.distplot(subset['modularity'], hist = False, kde = True,\n",
    "                 kde_kws = {'shade': True, 'linewidth': 3}, \n",
    "                  label = cat)\n",
    "plt.legend(prop={'size': 10}, title = 'IMDB score distribution')\n",
    "plt.title(\"Distribution of character network's modularity\")\n",
    "plt.xlabel('Modularity of character network')\n",
    "plt.ylabel('Density')"
   ]
  },
  {
   "cell_type": "code",
   "execution_count": null,
   "metadata": {},
   "outputs": [],
   "source": []
  },
  {
   "cell_type": "code",
   "execution_count": null,
   "metadata": {},
   "outputs": [],
   "source": []
  },
  {
   "cell_type": "code",
   "execution_count": null,
   "metadata": {},
   "outputs": [],
   "source": []
  }
 ],
 "metadata": {
  "kernelspec": {
   "display_name": "Python 3",
   "language": "python",
   "name": "python3"
  },
  "language_info": {
   "codemirror_mode": {
    "name": "ipython",
    "version": 3
   },
   "file_extension": ".py",
   "mimetype": "text/x-python",
   "name": "python",
   "nbconvert_exporter": "python",
   "pygments_lexer": "ipython3",
   "version": "3.11.5"
  }
 },
 "nbformat": 4,
 "nbformat_minor": 2
}
