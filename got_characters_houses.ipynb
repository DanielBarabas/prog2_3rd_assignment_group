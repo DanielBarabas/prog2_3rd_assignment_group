{
 "cells": [
  {
   "cell_type": "code",
   "execution_count": 7,
   "metadata": {},
   "outputs": [],
   "source": [
    "import pandas as pd\n",
    "import networkx as nx\n",
    "from pyvis.network import Network"
   ]
  },
  {
   "cell_type": "code",
   "execution_count": 11,
   "metadata": {},
   "outputs": [],
   "source": [
    "meta = pd.read_csv(\"series-networks/meta.csv\")\n",
    "edgelist = pd.read_csv(\"series-networks/gameofthrones/edges.csv\")\n",
    "attr = pd.read_csv(\"series-networks/gameofthrones/attributes.csv\")"
   ]
  },
  {
   "cell_type": "code",
   "execution_count": 3,
   "metadata": {},
   "outputs": [],
   "source": [
    "major_house_df = attr[attr[\"house\"].notna()]"
   ]
  },
  {
   "cell_type": "code",
   "execution_count": 12,
   "metadata": {},
   "outputs": [],
   "source": [
    "major_houses = [\"Targaryen\", \"Stark\", \"Lannister\",\n",
    "                \"Baratheon\", \"Greyjoy\", \"Tully\",\n",
    "                \"Arryn\", \"Martell\", \"Tyrell\"]"
   ]
  },
  {
   "cell_type": "code",
   "execution_count": 13,
   "metadata": {},
   "outputs": [],
   "source": [
    "def find_major_house(houses):\n",
    "    for house in houses:\n",
    "        house_names = ''.join(c if c.isalnum() else ' ' for c in house).split()\n",
    "        for name in house_names:\n",
    "            if name in major_houses:\n",
    "                return name\n",
    "    return None"
   ]
  },
  {
   "cell_type": "code",
   "execution_count": 14,
   "metadata": {},
   "outputs": [],
   "source": [
    "major_house_df[\"major_house\"] = major_house_df[\"house\"].str.split().apply(find_major_house)\n",
    "major_house_df = major_house_df[major_house_df[\"major_house\"].notna()]\n",
    "\n",
    "id_set = set(major_house_df[\"id\"])\n",
    "major_houses_edgelist = edgelist[edgelist[\"from\"].isin(id_set) &\n",
    "                                 edgelist[\"to\"].isin(id_set)]\n",
    "major_houses_edgelist = major_houses_edgelist[major_houses_edgelist[\"from\"] != major_houses_edgelist[\"to\"]]\n",
    "g_major_houses = nx.from_pandas_edgelist(major_houses_edgelist, \"from\", \"to\")\n",
    "\n",
    "id_house_dict = dict(zip(major_house_df[\"id\"], major_house_df[\"major_house\"]))\n",
    "nx.set_node_attributes(g_major_houses, id_house_dict, \"major_house\")"
   ]
  },
  {
   "cell_type": "code",
   "execution_count": 15,
   "metadata": {},
   "outputs": [],
   "source": [
    "degrees = dict(g_major_houses.degree())\n",
    "top_30_nodes = sorted(degrees, key=degrees.get, reverse=True)[:30]\n",
    "g_top_30 = g_major_houses.subgraph(top_30_nodes)"
   ]
  },
  {
   "cell_type": "code",
   "execution_count": 16,
   "metadata": {},
   "outputs": [
    {
     "name": "stdout",
     "output_type": "stream",
     "text": [
      "Warning: When  cdn_resources is 'local' jupyter notebook has issues displaying graphics on chrome/safari. Use cdn_resources='in_line' or cdn_resources='remote' if you have issues viewing graphics in a notebook.\n",
      "got_characters_houses.html\n"
     ]
    },
    {
     "data": {
      "text/html": [
       "\n",
       "        <iframe\n",
       "            width=\"100%\"\n",
       "            height=\"600px\"\n",
       "            src=\"got_characters_houses.html\"\n",
       "            frameborder=\"0\"\n",
       "            allowfullscreen\n",
       "            \n",
       "        ></iframe>\n",
       "        "
      ],
      "text/plain": [
       "<IPython.lib.display.IFrame at 0x20fea569090>"
      ]
     },
     "execution_count": 16,
     "metadata": {},
     "output_type": "execute_result"
    }
   ],
   "source": [
    "net = Network(notebook=True)\n",
    "net.repulsion() # Stop the nodes from jumping around\n",
    "\n",
    "net.from_nx(g_top_30)\n",
    "\n",
    "net.toggle_physics(True)\n",
    "net.show(\"got_characters_houses.html\")"
   ]
  }
 ],
 "metadata": {
  "kernelspec": {
   "display_name": "Python 3",
   "language": "python",
   "name": "python3"
  },
  "language_info": {
   "codemirror_mode": {
    "name": "ipython",
    "version": 3
   },
   "file_extension": ".py",
   "mimetype": "text/x-python",
   "name": "python",
   "nbconvert_exporter": "python",
   "pygments_lexer": "ipython3",
   "version": "3.11.5"
  }
 },
 "nbformat": 4,
 "nbformat_minor": 2
}
